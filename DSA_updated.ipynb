{
 "cells": [
  {
   "cell_type": "markdown",
   "id": "883e8e1a-6cab-4ee8-85a1-2bf0aab4d0dd",
   "metadata": {},
   "source": [
    "## Academic Course Registration System\n",
    "### Introduction\n",
    "This project focuses on creating an Academic course Registration system by searhing courses, which is done by using Binary search tree method. It also gives administrative control to manage courses like to insert a course and delete a course ...e.tc . This systmem aims to manage the registration of students for different courses available.\n",
    "\n",
    "The project mainly concentrates to create a system using Binary search tree which can also be done using other search methods like linear search or arrays or linked lists. But when we compare we get a conclusion that Binary search tree is most efficient method to perform search method.\n",
    "\n",
    "**In the project we focus on :**\n",
    "1. User Authenitication for both students and adminstrator side.\n",
    "   \n",
    "**User can perform the below actions**\n",
    "1. Registering in a course.\n",
    "2. cancelation of registration.\n",
    "3. view Course details.\n",
    "4. Search for courses.\n",
    "5. \n",
    "\n",
    "**Admin can perform the below actions:**\n",
    "1. Adding a new ccourse.\n",
    "2. Removing a new course if strength is full.\n",
    "3. Alloting waiting list numbers to students.\n",
    "\n",
    "### Binary search tree:\n",
    "A Binary Search Tree (BST) is a specialized tree-based data structure that enables efficient searching, insertion, and deletion operations. It is widely used in applications requiring fast lookups and ordered data storage.\n",
    "\n",
    "1. A Binary search tree contains nodes which is linked to some value.\n",
    "2. Each node is pointed to differnt nodes atmost.\n",
    "3. The node right to it is greater than the parent node.\n",
    "4. The node left to it is less than the parent node.\n",
    "\n",
    "\n"
   ]
  },
  {
   "cell_type": "markdown",
   "id": "4aa9dbc4-3de7-4e73-9764-ca1ade6a0118",
   "metadata": {
    "jp-MarkdownHeadingCollapsed": true
   },
   "source": [
    "### why BST is used??\n",
    "\n",
    "### 1. Efficient Searching\n",
    "- BST allows **O(log n)** time complexity for searching a course by **ID or name**, making it much faster than linear search in an unsorted list.\n",
    "- This is crucial when students need to quickly find and register for courses.\n",
    "\n",
    "### 2. Ordered Storage\n",
    "- Courses are automatically stored in sorted order, making retrieval easy.\n",
    "- In-order traversal can list courses in ascending order by ID or name.\n",
    "\n",
    "### 3. Fast Insertion and Deletion\n",
    "- Adding or removing courses (e.g., if a new course is introduced or a course is canceled) can be done efficiently in **O(log n)** time in a balanced BST.\n",
    "\n",
    "### 4. Efficient Range Queries\n",
    "- If a student wants to find courses in a certain range (e.g., all courses between **\"CS101\" and \"CS150\"**), BST enables fast **range-based searches**.\n",
    "\n",
    "### 5. Dynamic Structure\n",
    "- Unlike arrays, a BST dynamically adjusts as courses are added or removed, without requiring memory reallocation.\n",
    "\n",
    "### Disadvantages of Using Binary Search Tree:\n",
    "### 1. Unbalanced BST Issues\n",
    "- If the BST becomes unbalanced due to sequential insertions (e.g., courses added in sorted order), it can degrade to **O(n) time complexity**, making operations slow.\n",
    "\n",
    "\n",
    "### 2. Inefficient for Large Data:**  \n",
    "-Operations like search, insert, and delete degrade to O(n) in worst cases.\n",
    "\n",
    "\n",
    "\n"
   ]
  },
  {
   "cell_type": "markdown",
   "id": "dd9b0a0d-94d8-4679-809a-14c71fd27b9a",
   "metadata": {},
   "source": [
    "### Queues vs other approaches"
   ]
  },
  {
   "cell_type": "markdown",
   "id": "4bb6183a-b123-46e9-bf5f-fc2527b781a7",
   "metadata": {},
   "source": [
    "We are using queues for managing the students and registrations in the system. Queues follow FIFO principle (First in First out ) which ensures fair enrollment process of students in registering to courses. For managing waiting lists we use queues. We can't use stack because they follow Lat in First out principle(LIFO) which does not process fair enrollment of students in the registration.\n",
    "\n",
    "Queues have a properity of dynamic allocation which supports increasing of data. So it is efficient to use Queues\n",
    "\n",
    "We are implementing queues using linked list. Because:\n",
    "1. Dynamic memory allocation - No need of fixed size like arrays.\n",
    "2. Efficient Insertions/Deletions – No shifting elements, just updating pointers.\n",
    "3. Easy Waitlist Management – Using queues implemented via linked lists."
   ]
  },
  {
   "cell_type": "markdown",
   "id": "2df63ad6-ffa3-4b50-af6d-b05b78cfd219",
   "metadata": {},
   "source": [
    "## Object-Oriented Programming (OOPS) concept related to our Project\n",
    "The Overall desgin of the code is based on the principals of oops concept and principles which helps in creating a structured,scalable and reusable system\n",
    "### Key OOPs Concepts Used:\n",
    "1. **Classes and Objects**\n",
    "| classes | purpose |\n",
    "|----------|-----------|\n",
    "|**user**|Base class for all users (Students & Admins)|\n",
    "|**student**|Represents a student who can register/drop courses|\n",
    "|**Admin**|Represents an admin who can add/remove courses|\n",
    "|**course**|Represents a course with limited seats and a waiting list|\n",
    "|**BST Node**|Node for a Binary Search Tree (BST) storing courses|\n",
    "|**BST**|Binary Search Tree to store and manage courses|\n"
   ]
  },
  {
   "cell_type": "code",
   "execution_count": null,
   "id": "6a4be1b3-d7a2-4d8e-88ec-07628d54785f",
   "metadata": {},
   "outputs": [],
   "source": [
    "class Course:\n",
    "    def __init__(self, course_id, course_name, max_seats):\n",
    "        self.course_id = course_id\n",
    "        self.course_name = course_name\n",
    "        self.max_seats = max_seats\n",
    "        self.students = deque()  \n",
    "        self.waiting_list = deque()  \n",
    "\n",
    "class BSTNode:\n",
    "    def __init__(self, course):\n",
    "        self.course = course\n",
    "        self.left = None\n",
    "        self.right = None\n",
    "\n",
    "class BST:\n",
    "    def __init__(self):\n",
    "        self.root = None\n",
    "\n"
   ]
  },
  {
   "cell_type": "markdown",
   "id": "f9380e84-822f-4106-91ac-2fded0220075",
   "metadata": {},
   "source": [
    "2. **Encapsulation**\n",
    "    * Encapsulation is used in:\n",
    "        * **User, Student, and Admin classes :** User details like password and security_answers are kept private (should be explicitly marked as private using _ convention).\n",
    "                       \n",
    "        * **Course class :** The course data (e.g., students, waiting_list) is encapsulated within the class.\n",
    "    "
   ]
  },
  {
   "cell_type": "code",
   "execution_count": null,
   "id": "0d47f237-57e4-4db8-9d57-02283b5904d4",
   "metadata": {},
   "outputs": [],
   "source": [
    "class User:\n",
    "    def __init__(self, name, student_id, dob, phone, email, password, security_answers):\n",
    "        self.name = name\n",
    "        self.student_id = student_id\n",
    "        self.dob = dob\n",
    "        self.phone = phone\n",
    "        self.email = email\n",
    "        self.__password = password\n",
    "        self.__security_answers = security_answers\n",
    "\n"
   ]
  },
  {
   "cell_type": "markdown",
   "id": "4205d8f9-17b5-4d36-89f6-d29535e701ff",
   "metadata": {},
   "source": [
    "3. **Inheritance**\n",
    "   * Student inherits from User.\n",
    "   * It inherits attributes (name, student_id, etc.) and methods (verify_password()).\n",
    "   * Admin also inherits from User, gaining the same attributes and behavior."
   ]
  },
  {
   "cell_type": "markdown",
   "id": "ab5ee5d2-53a7-489e-bd2f-0ba6fd1b043d",
   "metadata": {},
   "source": [
    "4.**Abstraction**\n",
    "  * BST (Binary Search Tree) hides the complexity of tree insertion and searching.\n",
    "  * CourseManager provides a simplified interface for managing courses.      "
   ]
  },
  {
   "cell_type": "code",
   "execution_count": null,
   "id": "47c24b0b-cf12-45e9-9c4a-0d7fef480f6a",
   "metadata": {},
   "outputs": [],
   "source": [
    "class Student(User):\n",
    "    def __init__(self, name, student_id, dob, phone, email, password, security_answers):\n",
    "        super().__init__(name, student_id, dob, phone, email, password, security_answers)\n",
    "        self.registered_courses = deque()\n",
    "\n",
    "class Admin(User):\n",
    "    def __init__(self, name, admin_id, dob, phone, email, password, security_answers):\n",
    "        super().__init__(name, admin_id, dob, phone, email, password, security_answers)"
   ]
  },
  {
   "cell_type": "markdown",
   "id": "d58daf08-15b3-4668-b1db-5935f777b9fd",
   "metadata": {},
   "source": [
    "## **Binary Search Tree (BST) Algorithm**\n",
    "\n",
    "### **1. Create a Binary Search Tree**\n",
    "- Start with an empty tree root = None\n",
    "\n",
    "### **2. Insert a Node**\n",
    "- If the tree is empty, set the root to a new node.\n",
    "- Otherwise, compare the course_id :\n",
    "  - If smaller, go to the left subtree.\n",
    "  - If larger, go to the right subtree.\n",
    "- Recursively insert in the correct position.\n",
    "\n",
    "### **3. Search for a Course**\n",
    "- Start from the root and compare course_id.\n",
    "- If it matches, return the course.\n",
    "- If smaller, search in the left subtree.\n",
    "- If larger, search in the right subtree.\n",
    "- If not found, return None.\n",
    "\n",
    "### **4. Delete a Course**\n",
    "- Find the node with the given course_id .\n",
    "- If found:\n",
    "  - If it has no children, remove it.\n",
    "  - If it has one child, replace it with its child.\n",
    "  - If it has two children, find the smallest node in the right subtree and replace it.\n",
    "- Update the tree structure accordingly.\n"
   ]
  },
  {
   "cell_type": "markdown",
   "id": "7054cc35-a369-4fa0-b316-3d7432b699b0",
   "metadata": {},
   "source": [
    "## IMPLEMENTATION\n",
    "\n",
    "1. **Define a data structure**\n",
    "    - Define a binary search tree for managing the courses.\n",
    "    - The node contains all the details of the course.\n",
    "\n",
    "2. **User Authentication**\n",
    "   - we are using user class from which both student class and admin class are inherited\n",
    "   - we take all the credentials from the users while registering and allow them to login.\n",
    "     \n",
    "3. **Course management**\n",
    "    - The Admin can only access the course details\n",
    "    - Can create a new course with definite number of students for that course\n",
    "    - The new course added is added to the BST.\n",
    "    - Can remove a course at any instant if needed.\n",
    "\n",
    "4. **Managing of students in course registration**\n",
    "    - The students have access to register for limited number of courses\n",
    "    - The students can view all the courses available.\n",
    "    - The students can cancel the registration.\n",
    "    - We are using queues to manage the number of students and also to give waiting list number.\n",
    "\n",
    "5. **Academic registration system**\n",
    "\n",
    "    By integrating\n",
    "    - The Admin for inserting courses and deleting courses.\n",
    "    - Student registration for registering the courses.\n",
    "\n",
    "### Conclusion\n",
    "\n",
    "The Academic Registration System utilizes a Binary Search Tree (BST) for efficient course management and Queues for fair handling of waitlisted students. The BST ensures quick course search, insertion, and deletion, while Queues manage waitlists in a First-In-First-Out manner. This approach allows for an organized, scalable, and efficient registration process, providing students with a smooth experience for course registration and management.\n",
    "\n",
    "\n",
    "#### GROUP MEMBERS:\n",
    "1. B.NAGA SRI HARINI-CB.SC.U4AIE24010\n",
    "2. B.YOGESH - CB.SC.U4AIE24011\n",
    "3. PRATHEEP - CB.SC.U4AIE24021\n",
    "4. BHAVESH - CB.SC.U4AIE24034\n",
    "\n"
   ]
  }
 ],
 "metadata": {
  "kernelspec": {
   "display_name": "Python 3 (ipykernel)",
   "language": "python",
   "name": "python3"
  },
  "language_info": {
   "codemirror_mode": {
    "name": "ipython",
    "version": 3
   },
   "file_extension": ".py",
   "mimetype": "text/x-python",
   "name": "python",
   "nbconvert_exporter": "python",
   "pygments_lexer": "ipython3",
   "version": "3.11.4"
  }
 },
 "nbformat": 4,
 "nbformat_minor": 5
}
